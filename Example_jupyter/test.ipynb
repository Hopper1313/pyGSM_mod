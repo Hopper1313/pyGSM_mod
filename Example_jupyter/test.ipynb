{
 "cells": [
  {
   "cell_type": "code",
   "execution_count": 9,
   "id": "04ed2ece",
   "metadata": {},
   "outputs": [],
   "source": [
    "import pyGSM.gsm_runner.gsm_config as gsm_config\n",
    "import pyGSM.gsm_runner.gsm_api as gsm_api"
   ]
  },
  {
   "cell_type": "code",
   "execution_count": null,
   "id": "df14db60",
   "metadata": {},
   "outputs": [],
   "source": [
    "cfg = gsm_config.GSMConfig(config_file='config.json')"
   ]
  },
  {
   "cell_type": "code",
   "execution_count": null,
   "id": "52af70b7",
   "metadata": {},
   "outputs": [],
   "source": []
  }
 ],
 "metadata": {
  "kernelspec": {
   "display_name": "gsm_runner_dev",
   "language": "python",
   "name": "python3"
  },
  "language_info": {
   "codemirror_mode": {
    "name": "ipython",
    "version": 3
   },
   "file_extension": ".py",
   "mimetype": "text/x-python",
   "name": "python",
   "nbconvert_exporter": "python",
   "pygments_lexer": "ipython3",
   "version": "3.10.19"
  }
 },
 "nbformat": 4,
 "nbformat_minor": 5
}
